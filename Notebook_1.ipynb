{
 "cells": [
  {
   "cell_type": "code",
   "execution_count": 1,
   "metadata": {},
   "outputs": [],
   "source": [
    "from Import.FEMReader import *\n",
    "from Core.GlobalK     import *\n",
    "from Export.ExportVTK import *"
   ]
  },
  {
   "cell_type": "code",
   "execution_count": 2,
   "metadata": {},
   "outputs": [],
   "source": [
    "inp_path = r'C:\\Users\\Михаил\\Desktop\\Prog\\Python\\PyFEM\\Data\\Column_v1.inp'\n",
    "\n",
    "setup = read_setup(inp_path)"
   ]
  },
  {
   "cell_type": "code",
   "execution_count": 3,
   "metadata": {},
   "outputs": [],
   "source": [
    "nodes = setup['*NODE']\n",
    "elems = setup['*ELEMENT, TYPE=C3D4, ELSET=P2;Default PSHELL_Volume_1']\n",
    "\n",
    "fix_set  = setup['*NSET, NSET=Basement_Set']\n",
    "load_set = setup['*NSET, NSET=Top_Set']\n",
    "\n",
    "n_dofs = nodes.shape[0]*3\n",
    "\n",
    "matprops = [(210e9, 0.3, 7950) for i in range(len(elems))]"
   ]
  },
  {
   "cell_type": "code",
   "execution_count": 4,
   "metadata": {},
   "outputs": [],
   "source": [
    "# Global Stiffness matrix and load vector assembly\n",
    "K = assemble_K(nodes, elems, matprops, callback = local_K_tetra)\n",
    "\n",
    "f = np.zeros(n_dofs)\n",
    "fixed_dofs = []\n",
    "\n",
    "for n in fix_set:\n",
    "    fixed_dofs += [3*n, 3*n+1, 3*n+2]\n",
    "\n",
    "for n in load_set:\n",
    "    f[3*n+1] = 1e4\n",
    "    fixed_dofs += [3*n, 3*n+2]"
   ]
  },
  {
   "cell_type": "code",
   "execution_count": 5,
   "metadata": {},
   "outputs": [],
   "source": [
    "# Solving for displacements\n",
    "U = solve_linear(K, f, fixed_dofs)"
   ]
  },
  {
   "cell_type": "code",
   "execution_count": 6,
   "metadata": {},
   "outputs": [],
   "source": [
    "# Exporting displacements\n",
    "ux, uy, uz = U[0::3], U[1::3], U[2::3]\n",
    "set_indicator = np.zeros(nodes.shape[0])\n",
    "set_indicator[fix_set] = 1\n",
    "set_indicator[load_set] = 2\n",
    "export_VTK(setup['*NODE'][:, 1:], setup['*ELEMENT, TYPE=C3D4, ELSET=P2;Default PSHELL_Volume_1'], 'Test.vtk', node_scalars={\n",
    "    'Displacements' : np.column_stack([ux, uy, uz]), 'Sets': set_indicator\n",
    "})"
   ]
  },
  {
   "cell_type": "code",
   "execution_count": null,
   "metadata": {},
   "outputs": [],
   "source": []
  }
 ],
 "metadata": {
  "kernelspec": {
   "display_name": "Python 3",
   "language": "python",
   "name": "python3"
  },
  "language_info": {
   "codemirror_mode": {
    "name": "ipython",
    "version": 3
   },
   "file_extension": ".py",
   "mimetype": "text/x-python",
   "name": "python",
   "nbconvert_exporter": "python",
   "pygments_lexer": "ipython3",
   "version": "3.11.9"
  }
 },
 "nbformat": 4,
 "nbformat_minor": 2
}
